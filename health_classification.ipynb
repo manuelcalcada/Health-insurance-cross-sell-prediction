{
  "nbformat": 4,
  "nbformat_minor": 0,
  "metadata": {
    "colab": {
      "name": "health_classification.ipynb",
      "provenance": [],
      "collapsed_sections": [
        "AyxjB1alogrE"
      ],
      "include_colab_link": true
    },
    "kernelspec": {
      "name": "python3",
      "display_name": "Python 3"
    }
  },
  "cells": [
    {
      "cell_type": "markdown",
      "metadata": {
        "id": "view-in-github",
        "colab_type": "text"
      },
      "source": [
        "<a href=\"https://colab.research.google.com/github/manuelcalcada/data-science-for-BPM/blob/master/health_classification.ipynb\" target=\"_parent\"><img src=\"https://colab.research.google.com/assets/colab-badge.svg\" alt=\"Open In Colab\"/></a>"
      ]
    },
    {
      "cell_type": "markdown",
      "metadata": {
        "id": "6qoV2IRB3cs2"
      },
      "source": [
        "#Predict Health Insurance Owners' who will be interested in Vehicle Insurance\n",
        "#### IND2074\n",
        "\n",
        "---\n",
        "\n",
        "\n"
      ]
    },
    {
      "cell_type": "markdown",
      "metadata": {
        "id": "6OdOqyIf3wHz"
      },
      "source": [
        "# Instalação e importação das bibliotecas necessárias"
      ]
    },
    {
      "cell_type": "code",
      "metadata": {
        "id": "DRHqn0Vx3A4B",
        "outputId": "9f531ead-4f2e-41f4-8315-aba80d031cc2",
        "colab": {
          "base_uri": "https://localhost:8080/"
        }
      },
      "source": [
        "!pip install scikit-learn --upgrade #instala o scikit learn\n",
        "!pip install imblearn --upgrade #instala o imblearn\n",
        "!pip install seaborn --upgrade #instala o seaborn"
      ],
      "execution_count": null,
      "outputs": [
        {
          "output_type": "stream",
          "text": [
            "Requirement already up-to-date: scikit-learn in /usr/local/lib/python3.6/dist-packages (0.23.2)\n",
            "Requirement already satisfied, skipping upgrade: scipy>=0.19.1 in /usr/local/lib/python3.6/dist-packages (from scikit-learn) (1.4.1)\n",
            "Requirement already satisfied, skipping upgrade: threadpoolctl>=2.0.0 in /usr/local/lib/python3.6/dist-packages (from scikit-learn) (2.1.0)\n",
            "Requirement already satisfied, skipping upgrade: joblib>=0.11 in /usr/local/lib/python3.6/dist-packages (from scikit-learn) (0.16.0)\n",
            "Requirement already satisfied, skipping upgrade: numpy>=1.13.3 in /usr/local/lib/python3.6/dist-packages (from scikit-learn) (1.18.5)\n",
            "Requirement already up-to-date: imblearn in /usr/local/lib/python3.6/dist-packages (0.0)\n",
            "Requirement already satisfied, skipping upgrade: imbalanced-learn in /usr/local/lib/python3.6/dist-packages (from imblearn) (0.4.3)\n",
            "Requirement already satisfied, skipping upgrade: scikit-learn>=0.20 in /usr/local/lib/python3.6/dist-packages (from imbalanced-learn->imblearn) (0.23.2)\n",
            "Requirement already satisfied, skipping upgrade: numpy>=1.8.2 in /usr/local/lib/python3.6/dist-packages (from imbalanced-learn->imblearn) (1.18.5)\n",
            "Requirement already satisfied, skipping upgrade: scipy>=0.13.3 in /usr/local/lib/python3.6/dist-packages (from imbalanced-learn->imblearn) (1.4.1)\n",
            "Requirement already satisfied, skipping upgrade: joblib>=0.11 in /usr/local/lib/python3.6/dist-packages (from scikit-learn>=0.20->imbalanced-learn->imblearn) (0.16.0)\n",
            "Requirement already satisfied, skipping upgrade: threadpoolctl>=2.0.0 in /usr/local/lib/python3.6/dist-packages (from scikit-learn>=0.20->imbalanced-learn->imblearn) (2.1.0)\n",
            "Requirement already up-to-date: seaborn in /usr/local/lib/python3.6/dist-packages (0.11.0)\n",
            "Requirement already satisfied, skipping upgrade: pandas>=0.23 in /usr/local/lib/python3.6/dist-packages (from seaborn) (1.0.5)\n",
            "Requirement already satisfied, skipping upgrade: numpy>=1.15 in /usr/local/lib/python3.6/dist-packages (from seaborn) (1.18.5)\n",
            "Requirement already satisfied, skipping upgrade: scipy>=1.0 in /usr/local/lib/python3.6/dist-packages (from seaborn) (1.4.1)\n",
            "Requirement already satisfied, skipping upgrade: matplotlib>=2.2 in /usr/local/lib/python3.6/dist-packages (from seaborn) (3.2.2)\n",
            "Requirement already satisfied, skipping upgrade: python-dateutil>=2.6.1 in /usr/local/lib/python3.6/dist-packages (from pandas>=0.23->seaborn) (2.8.1)\n",
            "Requirement already satisfied, skipping upgrade: pytz>=2017.2 in /usr/local/lib/python3.6/dist-packages (from pandas>=0.23->seaborn) (2018.9)\n",
            "Requirement already satisfied, skipping upgrade: pyparsing!=2.0.4,!=2.1.2,!=2.1.6,>=2.0.1 in /usr/local/lib/python3.6/dist-packages (from matplotlib>=2.2->seaborn) (2.4.7)\n",
            "Requirement already satisfied, skipping upgrade: cycler>=0.10 in /usr/local/lib/python3.6/dist-packages (from matplotlib>=2.2->seaborn) (0.10.0)\n",
            "Requirement already satisfied, skipping upgrade: kiwisolver>=1.0.1 in /usr/local/lib/python3.6/dist-packages (from matplotlib>=2.2->seaborn) (1.2.0)\n",
            "Requirement already satisfied, skipping upgrade: six>=1.5 in /usr/local/lib/python3.6/dist-packages (from python-dateutil>=2.6.1->pandas>=0.23->seaborn) (1.15.0)\n"
          ],
          "name": "stdout"
        }
      ]
    },
    {
      "cell_type": "code",
      "metadata": {
        "id": "kvaFjAdW3BjX"
      },
      "source": [
        "#importa os pacotes e funções necessárias\n",
        "import numpy as np \n",
        "import pandas as pd\n",
        "from sklearn.impute import SimpleImputer\n",
        "from sklearn import preprocessing\n",
        "from sklearn.model_selection import train_test_split\n",
        "import matplotlib.pyplot as plt\n",
        "import itertools\n",
        "import seaborn as sn\n",
        "sn.set_palette(\"pastel\")\n",
        "sn.set_theme(style='white')"
      ],
      "execution_count": 1,
      "outputs": []
    },
    {
      "cell_type": "markdown",
      "metadata": {
        "id": "pwRVkxjb336z"
      },
      "source": [
        "#Importação do dataframe"
      ]
    },
    {
      "cell_type": "code",
      "metadata": {
        "id": "hCfJ6kgV41UG"
      },
      "source": [
        "#importa o dataset do github e grava na variável df_0\n",
        "df_0 = pd.read_csv('https://raw.githubusercontent.com/manuelcalcada/data-science-for-BPM/master/train.csv')"
      ],
      "execution_count": 2,
      "outputs": []
    },
    {
      "cell_type": "code",
      "metadata": {
        "id": "ILhY_acS65bm",
        "outputId": "b32d714f-be81-4da8-ae64-463a22fe4af6",
        "colab": {
          "base_uri": "https://localhost:8080/",
          "height": 359
        }
      },
      "source": [
        "#imprime as 10 primeiras linhas do dataset\n",
        "df_0.head(10)"
      ],
      "execution_count": 4,
      "outputs": [
        {
          "output_type": "execute_result",
          "data": {
            "text/html": [
              "<div>\n",
              "<style scoped>\n",
              "    .dataframe tbody tr th:only-of-type {\n",
              "        vertical-align: middle;\n",
              "    }\n",
              "\n",
              "    .dataframe tbody tr th {\n",
              "        vertical-align: top;\n",
              "    }\n",
              "\n",
              "    .dataframe thead th {\n",
              "        text-align: right;\n",
              "    }\n",
              "</style>\n",
              "<table border=\"1\" class=\"dataframe\">\n",
              "  <thead>\n",
              "    <tr style=\"text-align: right;\">\n",
              "      <th></th>\n",
              "      <th>id</th>\n",
              "      <th>Gender</th>\n",
              "      <th>Age</th>\n",
              "      <th>Driving_License</th>\n",
              "      <th>Region_Code</th>\n",
              "      <th>Previously_Insured</th>\n",
              "      <th>Vehicle_Age</th>\n",
              "      <th>Vehicle_Damage</th>\n",
              "      <th>Annual_Premium</th>\n",
              "      <th>Policy_Sales_Channel</th>\n",
              "      <th>Vintage</th>\n",
              "      <th>Response</th>\n",
              "    </tr>\n",
              "  </thead>\n",
              "  <tbody>\n",
              "    <tr>\n",
              "      <th>0</th>\n",
              "      <td>1</td>\n",
              "      <td>Male</td>\n",
              "      <td>44</td>\n",
              "      <td>1</td>\n",
              "      <td>28.0</td>\n",
              "      <td>0</td>\n",
              "      <td>&gt; 2 Years</td>\n",
              "      <td>Yes</td>\n",
              "      <td>40454.0</td>\n",
              "      <td>26.0</td>\n",
              "      <td>217</td>\n",
              "      <td>1</td>\n",
              "    </tr>\n",
              "    <tr>\n",
              "      <th>1</th>\n",
              "      <td>2</td>\n",
              "      <td>Male</td>\n",
              "      <td>76</td>\n",
              "      <td>1</td>\n",
              "      <td>3.0</td>\n",
              "      <td>0</td>\n",
              "      <td>1-2 Year</td>\n",
              "      <td>No</td>\n",
              "      <td>33536.0</td>\n",
              "      <td>26.0</td>\n",
              "      <td>183</td>\n",
              "      <td>0</td>\n",
              "    </tr>\n",
              "    <tr>\n",
              "      <th>2</th>\n",
              "      <td>3</td>\n",
              "      <td>Male</td>\n",
              "      <td>47</td>\n",
              "      <td>1</td>\n",
              "      <td>28.0</td>\n",
              "      <td>0</td>\n",
              "      <td>&gt; 2 Years</td>\n",
              "      <td>Yes</td>\n",
              "      <td>38294.0</td>\n",
              "      <td>26.0</td>\n",
              "      <td>27</td>\n",
              "      <td>1</td>\n",
              "    </tr>\n",
              "    <tr>\n",
              "      <th>3</th>\n",
              "      <td>4</td>\n",
              "      <td>Male</td>\n",
              "      <td>21</td>\n",
              "      <td>1</td>\n",
              "      <td>11.0</td>\n",
              "      <td>1</td>\n",
              "      <td>&lt; 1 Year</td>\n",
              "      <td>No</td>\n",
              "      <td>28619.0</td>\n",
              "      <td>152.0</td>\n",
              "      <td>203</td>\n",
              "      <td>0</td>\n",
              "    </tr>\n",
              "    <tr>\n",
              "      <th>4</th>\n",
              "      <td>5</td>\n",
              "      <td>Female</td>\n",
              "      <td>29</td>\n",
              "      <td>1</td>\n",
              "      <td>41.0</td>\n",
              "      <td>1</td>\n",
              "      <td>&lt; 1 Year</td>\n",
              "      <td>No</td>\n",
              "      <td>27496.0</td>\n",
              "      <td>152.0</td>\n",
              "      <td>39</td>\n",
              "      <td>0</td>\n",
              "    </tr>\n",
              "    <tr>\n",
              "      <th>5</th>\n",
              "      <td>6</td>\n",
              "      <td>Female</td>\n",
              "      <td>24</td>\n",
              "      <td>1</td>\n",
              "      <td>33.0</td>\n",
              "      <td>0</td>\n",
              "      <td>&lt; 1 Year</td>\n",
              "      <td>Yes</td>\n",
              "      <td>2630.0</td>\n",
              "      <td>160.0</td>\n",
              "      <td>176</td>\n",
              "      <td>0</td>\n",
              "    </tr>\n",
              "    <tr>\n",
              "      <th>6</th>\n",
              "      <td>7</td>\n",
              "      <td>Male</td>\n",
              "      <td>23</td>\n",
              "      <td>1</td>\n",
              "      <td>11.0</td>\n",
              "      <td>0</td>\n",
              "      <td>&lt; 1 Year</td>\n",
              "      <td>Yes</td>\n",
              "      <td>23367.0</td>\n",
              "      <td>152.0</td>\n",
              "      <td>249</td>\n",
              "      <td>0</td>\n",
              "    </tr>\n",
              "    <tr>\n",
              "      <th>7</th>\n",
              "      <td>8</td>\n",
              "      <td>Female</td>\n",
              "      <td>56</td>\n",
              "      <td>1</td>\n",
              "      <td>28.0</td>\n",
              "      <td>0</td>\n",
              "      <td>1-2 Year</td>\n",
              "      <td>Yes</td>\n",
              "      <td>32031.0</td>\n",
              "      <td>26.0</td>\n",
              "      <td>72</td>\n",
              "      <td>1</td>\n",
              "    </tr>\n",
              "    <tr>\n",
              "      <th>8</th>\n",
              "      <td>9</td>\n",
              "      <td>Female</td>\n",
              "      <td>24</td>\n",
              "      <td>1</td>\n",
              "      <td>3.0</td>\n",
              "      <td>1</td>\n",
              "      <td>&lt; 1 Year</td>\n",
              "      <td>No</td>\n",
              "      <td>27619.0</td>\n",
              "      <td>152.0</td>\n",
              "      <td>28</td>\n",
              "      <td>0</td>\n",
              "    </tr>\n",
              "    <tr>\n",
              "      <th>9</th>\n",
              "      <td>10</td>\n",
              "      <td>Female</td>\n",
              "      <td>32</td>\n",
              "      <td>1</td>\n",
              "      <td>6.0</td>\n",
              "      <td>1</td>\n",
              "      <td>&lt; 1 Year</td>\n",
              "      <td>No</td>\n",
              "      <td>28771.0</td>\n",
              "      <td>152.0</td>\n",
              "      <td>80</td>\n",
              "      <td>0</td>\n",
              "    </tr>\n",
              "  </tbody>\n",
              "</table>\n",
              "</div>"
            ],
            "text/plain": [
              "   id  Gender  Age  ...  Policy_Sales_Channel  Vintage  Response\n",
              "0   1    Male   44  ...                  26.0      217         1\n",
              "1   2    Male   76  ...                  26.0      183         0\n",
              "2   3    Male   47  ...                  26.0       27         1\n",
              "3   4    Male   21  ...                 152.0      203         0\n",
              "4   5  Female   29  ...                 152.0       39         0\n",
              "5   6  Female   24  ...                 160.0      176         0\n",
              "6   7    Male   23  ...                 152.0      249         0\n",
              "7   8  Female   56  ...                  26.0       72         1\n",
              "8   9  Female   24  ...                 152.0       28         0\n",
              "9  10  Female   32  ...                 152.0       80         0\n",
              "\n",
              "[10 rows x 12 columns]"
            ]
          },
          "metadata": {
            "tags": []
          },
          "execution_count": 4
        }
      ]
    },
    {
      "cell_type": "code",
      "metadata": {
        "id": "r31-vtzqCuRU"
      },
      "source": [
        "df = df_0.copy() #criando backup de df_0"
      ],
      "execution_count": 5,
      "outputs": []
    },
    {
      "cell_type": "markdown",
      "metadata": {
        "id": "8VzMP85m3Qaw"
      },
      "source": [
        "#Caracterização dos dados"
      ]
    },
    {
      "cell_type": "code",
      "metadata": {
        "id": "YkbQPpismvkI",
        "outputId": "4f9868a7-359e-4963-ec0a-623d4c41fc08",
        "colab": {
          "base_uri": "https://localhost:8080/",
          "height": 340
        }
      },
      "source": [
        "#exibindo as informações do dataset como colunas, tipos e quantidade de dados\n",
        "df.info()"
      ],
      "execution_count": 6,
      "outputs": [
        {
          "output_type": "stream",
          "text": [
            "<class 'pandas.core.frame.DataFrame'>\n",
            "RangeIndex: 381109 entries, 0 to 381108\n",
            "Data columns (total 12 columns):\n",
            " #   Column                Non-Null Count   Dtype  \n",
            "---  ------                --------------   -----  \n",
            " 0   id                    381109 non-null  int64  \n",
            " 1   Gender                381109 non-null  object \n",
            " 2   Age                   381109 non-null  int64  \n",
            " 3   Driving_License       381109 non-null  int64  \n",
            " 4   Region_Code           381109 non-null  float64\n",
            " 5   Previously_Insured    381109 non-null  int64  \n",
            " 6   Vehicle_Age           381109 non-null  object \n",
            " 7   Vehicle_Damage        381109 non-null  object \n",
            " 8   Annual_Premium        381109 non-null  float64\n",
            " 9   Policy_Sales_Channel  381109 non-null  float64\n",
            " 10  Vintage               381109 non-null  int64  \n",
            " 11  Response              381109 non-null  int64  \n",
            "dtypes: float64(3), int64(6), object(3)\n",
            "memory usage: 34.9+ MB\n"
          ],
          "name": "stdout"
        }
      ]
    },
    {
      "cell_type": "code",
      "metadata": {
        "id": "2xmCwlsc4hN_"
      },
      "source": [
        "#convertendo variáveis categóricas em objetos (tipo)\n",
        "df['id'] = df['id'].apply(str) #categórica\n",
        "df['Region_Code'] = df['Region_Code'].apply(str) #categórica\n",
        "df['Policy_Sales_Channel'] = df['Policy_Sales_Channel'].apply(str) #categórica"
      ],
      "execution_count": null,
      "outputs": []
    },
    {
      "cell_type": "code",
      "metadata": {
        "id": "sgvig51r4lAJ",
        "outputId": "7e0b9c17-7e52-4ebd-908b-7f1e47f621bc",
        "colab": {
          "base_uri": "https://localhost:8080/",
          "height": 340
        }
      },
      "source": [
        "#exibindo novamente as informações do dataset como colunas, tipos e quantidade de dados após a conversão\n",
        "df.info()"
      ],
      "execution_count": null,
      "outputs": [
        {
          "output_type": "stream",
          "text": [
            "<class 'pandas.core.frame.DataFrame'>\n",
            "RangeIndex: 381109 entries, 0 to 381108\n",
            "Data columns (total 12 columns):\n",
            " #   Column                Non-Null Count   Dtype  \n",
            "---  ------                --------------   -----  \n",
            " 0   id                    381109 non-null  object \n",
            " 1   Gender                381109 non-null  object \n",
            " 2   Age                   381109 non-null  int64  \n",
            " 3   Driving_License       381109 non-null  int64  \n",
            " 4   Region_Code           381109 non-null  object \n",
            " 5   Previously_Insured    381109 non-null  int64  \n",
            " 6   Vehicle_Age           381109 non-null  object \n",
            " 7   Vehicle_Damage        381109 non-null  object \n",
            " 8   Annual_Premium        381109 non-null  float64\n",
            " 9   Policy_Sales_Channel  381109 non-null  object \n",
            " 10  Vintage               381109 non-null  int64  \n",
            " 11  Response              381109 non-null  int64  \n",
            "dtypes: float64(1), int64(5), object(6)\n",
            "memory usage: 34.9+ MB\n"
          ],
          "name": "stdout"
        }
      ]
    },
    {
      "cell_type": "code",
      "metadata": {
        "id": "Z46eagq9oL70",
        "outputId": "dc51a10d-add4-4746-c112-37bd4182849e",
        "colab": {
          "base_uri": "https://localhost:8080/",
          "height": 289
        }
      },
      "source": [
        "#exibindo a quantidade de valores únicos nos dados\n",
        "print(\"Valores únicos no df: \\n\\n{}\\n\".format(df.nunique()))"
      ],
      "execution_count": null,
      "outputs": [
        {
          "output_type": "stream",
          "text": [
            "Valores únicos no df: \n",
            "\n",
            "id                      381109\n",
            "Gender                       2\n",
            "Age                         66\n",
            "Driving_License              2\n",
            "Region_Code                 53\n",
            "Previously_Insured           2\n",
            "Vehicle_Age                  3\n",
            "Vehicle_Damage               2\n",
            "Annual_Premium           48838\n",
            "Policy_Sales_Channel       155\n",
            "Vintage                    290\n",
            "Response                     2\n",
            "dtype: int64\n",
            "\n"
          ],
          "name": "stdout"
        }
      ]
    },
    {
      "cell_type": "code",
      "metadata": {
        "id": "vRfIK_hooTT5",
        "outputId": "90cbd1cc-866d-4aee-f181-1b4117a5c193",
        "colab": {
          "base_uri": "https://localhost:8080/",
          "height": 289
        }
      },
      "source": [
        "#exibindo os dados ausentes do conjunto de dados\n",
        "print(\"Valores nulos no df: \\n\\n{}\\n\".format(df.isnull().sum(axis = 0)))"
      ],
      "execution_count": null,
      "outputs": [
        {
          "output_type": "stream",
          "text": [
            "Valores nulos no df: \n",
            "\n",
            "id                      0\n",
            "Gender                  0\n",
            "Age                     0\n",
            "Driving_License         0\n",
            "Region_Code             0\n",
            "Previously_Insured      0\n",
            "Vehicle_Age             0\n",
            "Vehicle_Damage          0\n",
            "Annual_Premium          0\n",
            "Policy_Sales_Channel    0\n",
            "Vintage                 0\n",
            "Response                0\n",
            "dtype: int64\n",
            "\n"
          ],
          "name": "stdout"
        }
      ]
    },
    {
      "cell_type": "code",
      "metadata": {
        "id": "xmGTtyhP3WZa",
        "outputId": "25bed737-e421-4f0c-fdaa-c3e00093ae80",
        "colab": {
          "base_uri": "https://localhost:8080/",
          "height": 297
        }
      },
      "source": [
        "#obtendo estatísticas acerca das colunas Age, Annual_Premium e Vintage\n",
        "statistics = df[['Age', 'Annual_Premium', 'Vintage']].describe()\n",
        "statistics.to_excel(\"statistics.xlsx\")  \n",
        "statistics.head(10)"
      ],
      "execution_count": null,
      "outputs": [
        {
          "output_type": "execute_result",
          "data": {
            "text/html": [
              "<div>\n",
              "<style scoped>\n",
              "    .dataframe tbody tr th:only-of-type {\n",
              "        vertical-align: middle;\n",
              "    }\n",
              "\n",
              "    .dataframe tbody tr th {\n",
              "        vertical-align: top;\n",
              "    }\n",
              "\n",
              "    .dataframe thead th {\n",
              "        text-align: right;\n",
              "    }\n",
              "</style>\n",
              "<table border=\"1\" class=\"dataframe\">\n",
              "  <thead>\n",
              "    <tr style=\"text-align: right;\">\n",
              "      <th></th>\n",
              "      <th>Age</th>\n",
              "      <th>Annual_Premium</th>\n",
              "      <th>Vintage</th>\n",
              "    </tr>\n",
              "  </thead>\n",
              "  <tbody>\n",
              "    <tr>\n",
              "      <th>count</th>\n",
              "      <td>381109.000000</td>\n",
              "      <td>381109.000000</td>\n",
              "      <td>381109.000000</td>\n",
              "    </tr>\n",
              "    <tr>\n",
              "      <th>mean</th>\n",
              "      <td>38.822584</td>\n",
              "      <td>30564.389581</td>\n",
              "      <td>154.347397</td>\n",
              "    </tr>\n",
              "    <tr>\n",
              "      <th>std</th>\n",
              "      <td>15.511611</td>\n",
              "      <td>17213.155057</td>\n",
              "      <td>83.671304</td>\n",
              "    </tr>\n",
              "    <tr>\n",
              "      <th>min</th>\n",
              "      <td>20.000000</td>\n",
              "      <td>2630.000000</td>\n",
              "      <td>10.000000</td>\n",
              "    </tr>\n",
              "    <tr>\n",
              "      <th>25%</th>\n",
              "      <td>25.000000</td>\n",
              "      <td>24405.000000</td>\n",
              "      <td>82.000000</td>\n",
              "    </tr>\n",
              "    <tr>\n",
              "      <th>50%</th>\n",
              "      <td>36.000000</td>\n",
              "      <td>31669.000000</td>\n",
              "      <td>154.000000</td>\n",
              "    </tr>\n",
              "    <tr>\n",
              "      <th>75%</th>\n",
              "      <td>49.000000</td>\n",
              "      <td>39400.000000</td>\n",
              "      <td>227.000000</td>\n",
              "    </tr>\n",
              "    <tr>\n",
              "      <th>max</th>\n",
              "      <td>85.000000</td>\n",
              "      <td>540165.000000</td>\n",
              "      <td>299.000000</td>\n",
              "    </tr>\n",
              "  </tbody>\n",
              "</table>\n",
              "</div>"
            ],
            "text/plain": [
              "                 Age  Annual_Premium        Vintage\n",
              "count  381109.000000   381109.000000  381109.000000\n",
              "mean       38.822584    30564.389581     154.347397\n",
              "std        15.511611    17213.155057      83.671304\n",
              "min        20.000000     2630.000000      10.000000\n",
              "25%        25.000000    24405.000000      82.000000\n",
              "50%        36.000000    31669.000000     154.000000\n",
              "75%        49.000000    39400.000000     227.000000\n",
              "max        85.000000   540165.000000     299.000000"
            ]
          },
          "metadata": {
            "tags": []
          },
          "execution_count": 30
        }
      ]
    },
    {
      "cell_type": "code",
      "metadata": {
        "id": "QvNY7Ndn4ges",
        "outputId": "b303c9a0-4688-4cac-ebdf-0e4f1b5e8409",
        "colab": {
          "base_uri": "https://localhost:8080/",
          "height": 68
        }
      },
      "source": [
        "#obtendo a quantidade de valores pertencentes a classes dummy Driving_License\n",
        "df['Driving_License'].value_counts()"
      ],
      "execution_count": null,
      "outputs": [
        {
          "output_type": "execute_result",
          "data": {
            "text/plain": [
              "1    380297\n",
              "0       812\n",
              "Name: Driving_License, dtype: int64"
            ]
          },
          "metadata": {
            "tags": []
          },
          "execution_count": 31
        }
      ]
    },
    {
      "cell_type": "code",
      "metadata": {
        "id": "SIMe_uXeglmn",
        "outputId": "73e66221-9bac-40f8-e1fd-e60a1840e6ae",
        "colab": {
          "base_uri": "https://localhost:8080/",
          "height": 68
        }
      },
      "source": [
        "#frequência dos valores acima\n",
        "df['Driving_License'].value_counts(normalize = True)"
      ],
      "execution_count": null,
      "outputs": [
        {
          "output_type": "execute_result",
          "data": {
            "text/plain": [
              "1    0.997869\n",
              "0    0.002131\n",
              "Name: Driving_License, dtype: float64"
            ]
          },
          "metadata": {
            "tags": []
          },
          "execution_count": 32
        }
      ]
    },
    {
      "cell_type": "code",
      "metadata": {
        "id": "ZSWCvYvq4yWO",
        "outputId": "9b62f1b4-e9b7-4216-fb51-727894cf30bb",
        "colab": {
          "base_uri": "https://localhost:8080/",
          "height": 68
        }
      },
      "source": [
        "#obtendo a quantidade de valores pertencentes a classes dummy Previously_Insured\n",
        "df['Previously_Insured'].value_counts()"
      ],
      "execution_count": null,
      "outputs": [
        {
          "output_type": "execute_result",
          "data": {
            "text/plain": [
              "0    206481\n",
              "1    174628\n",
              "Name: Previously_Insured, dtype: int64"
            ]
          },
          "metadata": {
            "tags": []
          },
          "execution_count": 33
        }
      ]
    },
    {
      "cell_type": "code",
      "metadata": {
        "id": "Tc7dxDO1ggj6",
        "outputId": "cf03c46b-b3cb-467d-bd77-ce8ded09de0c",
        "colab": {
          "base_uri": "https://localhost:8080/",
          "height": 68
        }
      },
      "source": [
        "#frequência dos valores acima\n",
        "df['Previously_Insured'].value_counts(normalize = True)"
      ],
      "execution_count": null,
      "outputs": [
        {
          "output_type": "execute_result",
          "data": {
            "text/plain": [
              "0    0.54179\n",
              "1    0.45821\n",
              "Name: Previously_Insured, dtype: float64"
            ]
          },
          "metadata": {
            "tags": []
          },
          "execution_count": 34
        }
      ]
    },
    {
      "cell_type": "code",
      "metadata": {
        "id": "35M7bkd-fvEb",
        "outputId": "057b4dc2-ef35-45a4-d2f2-99ded2460f3d",
        "colab": {
          "base_uri": "https://localhost:8080/",
          "height": 85
        }
      },
      "source": [
        "#obtendo a quantidade de valores pertencentes a classes categorica Vehicle_Age\n",
        "df['Vehicle_Age'].value_counts()"
      ],
      "execution_count": null,
      "outputs": [
        {
          "output_type": "execute_result",
          "data": {
            "text/plain": [
              "1-2 Year     200316\n",
              "< 1 Year     164786\n",
              "> 2 Years     16007\n",
              "Name: Vehicle_Age, dtype: int64"
            ]
          },
          "metadata": {
            "tags": []
          },
          "execution_count": 35
        }
      ]
    },
    {
      "cell_type": "code",
      "metadata": {
        "id": "xbhhyWfigaL1",
        "outputId": "eaf1a004-6331-4332-de60-690b2da530c8",
        "colab": {
          "base_uri": "https://localhost:8080/",
          "height": 85
        }
      },
      "source": [
        "#frequência dos valores acima\n",
        "df['Vehicle_Age'].value_counts(normalize = True)"
      ],
      "execution_count": null,
      "outputs": [
        {
          "output_type": "execute_result",
          "data": {
            "text/plain": [
              "1-2 Year     0.525613\n",
              "< 1 Year     0.432385\n",
              "> 2 Years    0.042001\n",
              "Name: Vehicle_Age, dtype: float64"
            ]
          },
          "metadata": {
            "tags": []
          },
          "execution_count": 36
        }
      ]
    },
    {
      "cell_type": "code",
      "metadata": {
        "id": "eWpEqa7M4Kx_",
        "outputId": "66e65af6-f12f-46c4-cf24-123ad52403b9",
        "colab": {
          "base_uri": "https://localhost:8080/",
          "height": 68
        }
      },
      "source": [
        "#obtendo a quantidade de valores pertencentes a cada classe alvo\n",
        "df['Response'].value_counts()"
      ],
      "execution_count": null,
      "outputs": [
        {
          "output_type": "execute_result",
          "data": {
            "text/plain": [
              "0    334399\n",
              "1     46710\n",
              "Name: Response, dtype: int64"
            ]
          },
          "metadata": {
            "tags": []
          },
          "execution_count": 37
        }
      ]
    },
    {
      "cell_type": "code",
      "metadata": {
        "id": "wyybkU92gr_4",
        "outputId": "7746ca4b-df8c-4be9-dba4-326133f4ca1f",
        "colab": {
          "base_uri": "https://localhost:8080/",
          "height": 68
        }
      },
      "source": [
        "#frequência dos valores acima\n",
        "df['Response'].value_counts(normalize = True)"
      ],
      "execution_count": null,
      "outputs": [
        {
          "output_type": "execute_result",
          "data": {
            "text/plain": [
              "0    0.877437\n",
              "1    0.122563\n",
              "Name: Response, dtype: float64"
            ]
          },
          "metadata": {
            "tags": []
          },
          "execution_count": 38
        }
      ]
    },
    {
      "cell_type": "code",
      "metadata": {
        "id": "hURizQEv50zu",
        "outputId": "caa2f65a-7465-4b93-c99f-7efa730a7a2f",
        "colab": {
          "base_uri": "https://localhost:8080/",
          "height": 518
        }
      },
      "source": [
        "#histograma da distribuição dos dados da variável numérica Age\n",
        "df['Age'].hist(figsize=(15,8), bins = 65, density = True)\n",
        "plt.xlabel('Age (years)')\n",
        "plt.ylabel('Frequency')\n",
        "plt.title('Age Histogram')\n",
        "plt.show()"
      ],
      "execution_count": null,
      "outputs": [
        {
          "output_type": "display_data",
          "data": {
            "image/png": "[encoded data removed]",
            "text/plain": [
              "<Figure size 1080x576 with 1 Axes>"
            ]
          },
          "metadata": {
            "tags": []
          }
        }
      ]
    },
    {
      "cell_type": "code",
      "metadata": {
        "id": "LvjyaZkgiaXX",
        "outputId": "6cf039c2-415d-4095-ad72-68b17fb10dd6",
        "colab": {
          "base_uri": "https://localhost:8080/",
          "height": 204
        }
      },
      "source": [
        "df['Age'].value_counts(normalize = True, bins = 10)"
      ],
      "execution_count": null,
      "outputs": [
        {
          "output_type": "execute_result",
          "data": {
            "text/plain": [
              "(19.933999999999997, 26.5]    0.335967\n",
              "(39.5, 46.0]                  0.146328\n",
              "(26.5, 33.0]                  0.128417\n",
              "(46.0, 52.5]                  0.101931\n",
              "(33.0, 39.5]                  0.085212\n",
              "(52.5, 59.0]                  0.079416\n",
              "(59.0, 65.5]                  0.049078\n",
              "(65.5, 72.0]                  0.043961\n",
              "(72.0, 78.5]                  0.024565\n",
              "(78.5, 85.0]                  0.005125\n",
              "Name: Age, dtype: float64"
            ]
          },
          "metadata": {
            "tags": []
          },
          "execution_count": 40
        }
      ]
    },
    {
      "cell_type": "code",
      "metadata": {
        "id": "6grPCBDH62_n",
        "outputId": "72a137f2-11d1-40ce-d7a1-016adb5f24eb",
        "colab": {
          "base_uri": "https://localhost:8080/",
          "height": 518
        }
      },
      "source": [
        "#histograma da distribuição dos dados da variável numérica Annual_Premium\n",
        "df['Annual_Premium'].hist(figsize=(15,8), bins = 50, density = True, range=[0, 80000])\n",
        "plt.xlabel('Annual Premium ($)')\n",
        "plt.ylabel('Frequency')\n",
        "plt.title('Annual Premium Histogram')\n",
        "plt.show()"
      ],
      "execution_count": null,
      "outputs": [
        {
          "output_type": "display_data",
          "data": {
            "image/png": "[encoded data removed]",
            "text/plain": [
              "<Figure size 1080x576 with 1 Axes>"
            ]
          },
          "metadata": {
            "tags": []
          }
        }
      ]
    },
    {
      "cell_type": "code",
      "metadata": {
        "id": "BRkf6CVNi3v4",
        "outputId": "6310fc63-8e02-4ae8-9117-9aa658cf4f1f",
        "colab": {
          "base_uri": "https://localhost:8080/",
          "height": 884
        }
      },
      "source": [
        "df['Annual_Premium'].value_counts(normalize = True, bins = 50)"
      ],
      "execution_count": null,
      "outputs": [
        {
          "output_type": "execute_result",
          "data": {
            "text/plain": [
              "(24131.4, 34882.1]      0.372187\n",
              "(34882.1, 45632.8]      0.250768\n",
              "(2092.464, 13380.7]     0.170534\n",
              "(45632.8, 56383.5]      0.088507\n",
              "(13380.7, 24131.4]      0.073286\n",
              "(56383.5, 67134.2]      0.027617\n",
              "(67134.2, 77884.9]      0.010000\n",
              "(77884.9, 88635.6]      0.003293\n",
              "(88635.6, 99386.3]      0.001690\n",
              "(99386.3, 110137.0]     0.000853\n",
              "(110137.0, 120887.7]    0.000415\n",
              "(120887.7, 131638.4]    0.000184\n",
              "(131638.4, 142389.1]    0.000129\n",
              "(163890.5, 174641.2]    0.000063\n",
              "(142389.1, 153139.8]    0.000063\n",
              "(153139.8, 163890.5]    0.000050\n",
              "(228394.7, 239145.4]    0.000034\n",
              "(335901.7, 346652.4]    0.000034\n",
              "(292898.9, 303649.6]    0.000031\n",
              "(174641.2, 185391.9]    0.000026\n",
              "(303649.6, 314400.3]    0.000026\n",
              "(206893.3, 217644.0]    0.000026\n",
              "(196142.6, 206893.3]    0.000024\n",
              "(185391.9, 196142.6]    0.000021\n",
              "(217644.0, 228394.7]    0.000018\n",
              "(282148.2, 292898.9]    0.000016\n",
              "(249896.1, 260646.8]    0.000016\n",
              "(239145.4, 249896.1]    0.000013\n",
              "(529414.3, 540165.0]    0.000010\n",
              "(357403.1, 368153.8]    0.000010\n",
              "(260646.8, 271397.5]    0.000008\n",
              "(314400.3, 325151.0]    0.000008\n",
              "(346652.4, 357403.1]    0.000008\n",
              "(464910.1, 475660.8]    0.000008\n",
              "(389655.2, 400405.9]    0.000005\n",
              "(400405.9, 411156.6]    0.000005\n",
              "(486411.5, 497162.2]    0.000005\n",
              "(325151.0, 335901.7]    0.000003\n",
              "(507912.9, 518663.6]    0.000003\n",
              "(443408.7, 454159.4]    0.000003\n",
              "(454159.4, 464910.1]    0.000000\n",
              "(497162.2, 507912.9]    0.000000\n",
              "(475660.8, 486411.5]    0.000000\n",
              "(518663.6, 529414.3]    0.000000\n",
              "(432658.0, 443408.7]    0.000000\n",
              "(421907.3, 432658.0]    0.000000\n",
              "(271397.5, 282148.2]    0.000000\n",
              "(378904.5, 389655.2]    0.000000\n",
              "(368153.8, 378904.5]    0.000000\n",
              "(411156.6, 421907.3]    0.000000\n",
              "Name: Annual_Premium, dtype: float64"
            ]
          },
          "metadata": {
            "tags": []
          },
          "execution_count": 42
        }
      ]
    },
    {
      "cell_type": "code",
      "metadata": {
        "id": "Fbaf00m47ZT_",
        "outputId": "197e7047-d238-402d-ddde-a85fddf4515b",
        "colab": {
          "base_uri": "https://localhost:8080/",
          "height": 518
        }
      },
      "source": [
        "#histograma da distribuição dos dados da variável numérica Vintage\n",
        "df['Vintage'].hist(figsize=(15,8), bins = 200, density = True)\n",
        "plt.xlabel('Days')\n",
        "plt.ylabel('Frequency')\n",
        "plt.title('Vintage Histogram')\n",
        "plt.show()"
      ],
      "execution_count": null,
      "outputs": [
        {
          "output_type": "display_data",
          "data": {
            "image/png": "[encoded data removed]",
            "text/plain": [
              "<Figure size 1080x576 with 1 Axes>"
            ]
          },
          "metadata": {
            "tags": []
          }
        }
      ]
    },
    {
      "cell_type": "code",
      "metadata": {
        "id": "2DYLGg7Ji9Pd",
        "outputId": "1a88ceb9-2460-4ae0-8b3a-ff08b8a27c9b",
        "colab": {
          "base_uri": "https://localhost:8080/",
          "height": 204
        }
      },
      "source": [
        "df['Vintage'].value_counts(normalize = True, bins = 10)"
      ],
      "execution_count": null,
      "outputs": [
        {
          "output_type": "execute_result",
          "data": {
            "text/plain": [
              "(67.8, 96.7]      0.100748\n",
              "(241.2, 270.1]    0.100446\n",
              "(96.7, 125.6]     0.100268\n",
              "(9.71, 38.9]      0.100139\n",
              "(125.6, 154.5]    0.100105\n",
              "(183.4, 212.3]    0.100103\n",
              "(212.3, 241.2]    0.099919\n",
              "(38.9, 67.8]      0.099803\n",
              "(270.1, 299.0]    0.099292\n",
              "(154.5, 183.4]    0.099176\n",
              "Name: Vintage, dtype: float64"
            ]
          },
          "metadata": {
            "tags": []
          },
          "execution_count": 44
        }
      ]
    },
    {
      "cell_type": "code",
      "metadata": {
        "id": "WwFXF9oM-nSc",
        "outputId": "da62829f-19a7-443f-b56a-3d0bf8ae4565",
        "colab": {
          "base_uri": "https://localhost:8080/",
          "height": 518
        }
      },
      "source": [
        "#histograma de Age agrupado pela classe\n",
        "df.groupby('Response').Age.hist(range=[20, 80], align = 'mid', bins=60, figsize=(15,8), density = True, alpha = 0.5)\n",
        "plt.xlabel('Age (years)')\n",
        "plt.ylabel('Frequency')\n",
        "plt.title('Age Histogram')\n",
        "plt.legend(['Response = False', 'Response = True'])\n",
        "plt.show()"
      ],
      "execution_count": null,
      "outputs": [
        {
          "output_type": "display_data",
          "data": {
            "image/png": "[encoded data removed]",
            "text/plain": [
              "<Figure size 1080x576 with 1 Axes>"
            ]
          },
          "metadata": {
            "tags": []
          }
        }
      ]
    },
    {
      "cell_type": "code",
      "metadata": {
        "id": "3qa9SGQvjSaz",
        "outputId": "e394ceb5-5789-425b-cdde-6c2f6042d1ba",
        "colab": {
          "base_uri": "https://localhost:8080/",
          "height": 391
        }
      },
      "source": [
        "df.groupby('Response').Age.value_counts(normalize = True, bins = 10)"
      ],
      "execution_count": null,
      "outputs": [
        {
          "output_type": "execute_result",
          "data": {
            "text/plain": [
              "Response                            \n",
              "0         (19.933999999999997, 26.5]    0.369346\n",
              "          (39.5, 46.0]                  0.131140\n",
              "          (26.5, 33.0]                  0.129833\n",
              "          (46.0, 52.5]                  0.092784\n",
              "          (33.0, 39.5]                  0.075661\n",
              "          (52.5, 59.0]                  0.075311\n",
              "          (59.0, 65.5]                  0.048968\n",
              "          (65.5, 72.0]                  0.045526\n",
              "          (72.0, 78.5]                  0.025963\n",
              "          (78.5, 85.0]                  0.005467\n",
              "1         (38.9, 45.2]                  0.247955\n",
              "          (45.2, 51.5]                  0.181696\n",
              "          (32.6, 38.9]                  0.147377\n",
              "          (51.5, 57.8]                  0.106508\n",
              "          (19.936, 26.3]                0.097003\n",
              "          (26.3, 32.6]                  0.095055\n",
              "          (57.8, 64.1]                  0.067459\n",
              "          (64.1, 70.4]                  0.032413\n",
              "          (70.4, 76.7]                  0.018347\n",
              "          (76.7, 83.0]                  0.006187\n",
              "Name: Age, dtype: float64"
            ]
          },
          "metadata": {
            "tags": []
          },
          "execution_count": 50
        }
      ]
    },
    {
      "cell_type": "code",
      "metadata": {
        "id": "YgLBbNhS-1wB",
        "outputId": "685ecd22-5807-4013-83fc-efbe7637df4b",
        "colab": {
          "base_uri": "https://localhost:8080/",
          "height": 518
        }
      },
      "source": [
        "#histograma de Annual Premium agrupado pela classe\n",
        "df.groupby('Response').Annual_Premium.hist(range=[0, 70000], align = 'mid', bins=100, figsize=(15,8), density = True, alpha = 0.5)\n",
        "plt.xlabel('Annual Premium ($)')\n",
        "plt.ylabel('Frequency')\n",
        "plt.title('Annual Premium Histogram')\n",
        "plt.legend(['Response = False', 'Response = True'])\n",
        "plt.show()"
      ],
      "execution_count": null,
      "outputs": [
        {
          "output_type": "display_data",
          "data": {
            "image/png": "[encoded data removed]",
            "text/plain": [
              "<Figure size 1080x576 with 1 Axes>"
            ]
          },
          "metadata": {
            "tags": []
          }
        }
      ]
    },
    {
      "cell_type": "code",
      "metadata": {
        "id": "8mXKQvPcjn36",
        "outputId": "a8bdcfb4-0892-46e2-d16f-fd5ad40553fd",
        "colab": {
          "base_uri": "https://localhost:8080/",
          "height": 731
        }
      },
      "source": [
        "df.groupby('Response').Annual_Premium.value_counts(normalize = True, bins = 20)"
      ],
      "execution_count": null,
      "outputs": [
        {
          "output_type": "execute_result",
          "data": {
            "text/plain": [
              "Response                       \n",
              "0         (29506.75, 56383.5]      0.534930\n",
              "          (2092.464, 29506.75]     0.421864\n",
              "          (56383.5, 83260.25]      0.038266\n",
              "          (83260.25, 110137.0]     0.003726\n",
              "          (110137.0, 137013.75]    0.000655\n",
              "          (137013.75, 163890.5]    0.000158\n",
              "          (163890.5, 190767.25]    0.000105\n",
              "          (190767.25, 217644.0]    0.000060\n",
              "          (217644.0, 244520.75]    0.000057\n",
              "          (298274.25, 325151.0]    0.000045\n",
              "          (325151.0, 352027.75]    0.000042\n",
              "          (271397.5, 298274.25]    0.000033\n",
              "          (244520.75, 271397.5]    0.000015\n",
              "          (352027.75, 378904.5]    0.000012\n",
              "          (378904.5, 405781.25]    0.000012\n",
              "          (513288.25, 540165.0]    0.000009\n",
              "          (486411.5, 513288.25]    0.000006\n",
              "          (432658.0, 459534.75]    0.000003\n",
              "          (459534.75, 486411.5]    0.000003\n",
              "          (405781.25, 432658.0]    0.000000\n",
              "1         (29506.75, 56383.5]      0.564933\n",
              "          (2092.464, 29506.75]     0.379533\n",
              "          (56383.5, 83260.25]      0.048897\n",
              "          (83260.25, 110137.0]     0.005010\n",
              "          (110137.0, 137013.75]    0.000814\n",
              "          (137013.75, 163890.5]    0.000214\n",
              "          (217644.0, 244520.75]    0.000107\n",
              "          (163890.5, 190767.25]    0.000107\n",
              "          (244520.75, 271397.5]    0.000107\n",
              "          (271397.5, 298274.25]    0.000064\n",
              "          (325151.0, 352027.75]    0.000064\n",
              "          (298274.25, 325151.0]    0.000043\n",
              "          (459534.75, 486411.5]    0.000043\n",
              "          (486411.5, 513288.25]    0.000021\n",
              "          (190767.25, 217644.0]    0.000021\n",
              "          (513288.25, 540165.0]    0.000021\n",
              "          (352027.75, 378904.5]    0.000000\n",
              "          (378904.5, 405781.25]    0.000000\n",
              "          (405781.25, 432658.0]    0.000000\n",
              "          (432658.0, 459534.75]    0.000000\n",
              "Name: Annual_Premium, dtype: float64"
            ]
          },
          "metadata": {
            "tags": []
          },
          "execution_count": 51
        }
      ]
    },
    {
      "cell_type": "code",
      "metadata": {
        "id": "eyG-HYeX5d79",
        "outputId": "0aab9ad6-85f4-4113-fab2-dd1af2980d72",
        "colab": {
          "base_uri": "https://localhost:8080/",
          "height": 691
        }
      },
      "source": [
        "#matriz de correlação entre as variáveis (excluindo as categóricas)\n",
        "corrMatrix = df.corr()\n",
        "plt.figure(figsize=(10,10))\n",
        "sn.heatmap(corrMatrix, annot=True, cmap=\"Blues\")\n",
        "plt.show()"
      ],
      "execution_count": null,
      "outputs": [
        {
          "output_type": "display_data",
          "data": {
            "image/png": "[encoded data removed]",
            "text/plain": [
              "<Figure size 720x720 with 2 Axes>"
            ]
          },
          "metadata": {
            "tags": []
          }
        }
      ]
    },
    {
      "cell_type": "markdown",
      "metadata": {
        "id": "AyxjB1alogrE"
      },
      "source": [
        "#Pré-processando o dataset antes do treinamento"
      ]
    }
  ]
}